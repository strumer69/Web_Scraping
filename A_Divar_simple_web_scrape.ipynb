{
 "cells": [
  {
   "cell_type": "markdown",
   "id": "f141579b",
   "metadata": {},
   "source": [
    "## simple webscraping of Divar website\n",
    "#### for description visit the following webpage:\n",
    "\n",
    "https://shmoradpour.ir/2022/05/18/%d9%88%d8%a8-%d8%a7%d8%b3%da%a9%d8%b1%d9%be%db%8c%d9%86%da%af/\n"
   ]
  },
  {
   "cell_type": "code",
   "execution_count": 4,
   "id": "c291efdb",
   "metadata": {
    "scrolled": true
   },
   "outputs": [
    {
     "name": "stdout",
     "output_type": "stream",
     "text": [
      "Requirement already satisfied: selenium in c:\\users\\shahram\\anaconda3\\lib\\site-packages (4.7.2)\n",
      "Requirement already satisfied: trio-websocket~=0.9 in c:\\users\\shahram\\anaconda3\\lib\\site-packages (from selenium) (0.9.2)\n",
      "Requirement already satisfied: urllib3[socks]~=1.26 in c:\\users\\shahram\\anaconda3\\lib\\site-packages (from selenium) (1.26.11)\n",
      "Requirement already satisfied: certifi>=2021.10.8 in c:\\users\\shahram\\anaconda3\\lib\\site-packages (from selenium) (2022.9.14)\n",
      "Requirement already satisfied: trio~=0.17 in c:\\users\\shahram\\anaconda3\\lib\\site-packages (from selenium) (0.22.0)\n",
      "Requirement already satisfied: attrs>=19.2.0 in c:\\users\\shahram\\anaconda3\\lib\\site-packages (from trio~=0.17->selenium) (21.4.0)\n",
      "Requirement already satisfied: async-generator>=1.9 in c:\\users\\shahram\\anaconda3\\lib\\site-packages (from trio~=0.17->selenium) (1.10)\n",
      "Requirement already satisfied: sortedcontainers in c:\\users\\shahram\\anaconda3\\lib\\site-packages (from trio~=0.17->selenium) (2.4.0)\n",
      "Requirement already satisfied: sniffio in c:\\users\\shahram\\anaconda3\\lib\\site-packages (from trio~=0.17->selenium) (1.2.0)\n",
      "Requirement already satisfied: idna in c:\\users\\shahram\\anaconda3\\lib\\site-packages (from trio~=0.17->selenium) (3.3)\n",
      "Requirement already satisfied: cffi>=1.14 in c:\\users\\shahram\\anaconda3\\lib\\site-packages (from trio~=0.17->selenium) (1.15.1)\n",
      "Requirement already satisfied: outcome in c:\\users\\shahram\\anaconda3\\lib\\site-packages (from trio~=0.17->selenium) (1.2.0)\n",
      "Requirement already satisfied: exceptiongroup>=1.0.0rc9 in c:\\users\\shahram\\anaconda3\\lib\\site-packages (from trio~=0.17->selenium) (1.0.4)\n",
      "Requirement already satisfied: wsproto>=0.14 in c:\\users\\shahram\\anaconda3\\lib\\site-packages (from trio-websocket~=0.9->selenium) (1.2.0)\n",
      "Requirement already satisfied: PySocks!=1.5.7,<2.0,>=1.5.6 in c:\\users\\shahram\\anaconda3\\lib\\site-packages (from urllib3[socks]~=1.26->selenium) (1.7.1)\n",
      "Requirement already satisfied: pycparser in c:\\users\\shahram\\anaconda3\\lib\\site-packages (from cffi>=1.14->trio~=0.17->selenium) (2.21)\n",
      "Requirement already satisfied: h11<1,>=0.9.0 in c:\\users\\shahram\\anaconda3\\lib\\site-packages (from wsproto>=0.14->trio-websocket~=0.9->selenium) (0.14.0)\n"
     ]
    },
    {
     "name": "stderr",
     "output_type": "stream",
     "text": [
      "WARNING: Ignoring invalid distribution -illow (c:\\users\\shahram\\anaconda3\\lib\\site-packages)\n",
      "WARNING: Ignoring invalid distribution -illow (c:\\users\\shahram\\anaconda3\\lib\\site-packages)\n",
      "WARNING: Ignoring invalid distribution -illow (c:\\users\\shahram\\anaconda3\\lib\\site-packages)\n",
      "WARNING: Ignoring invalid distribution -illow (c:\\users\\shahram\\anaconda3\\lib\\site-packages)\n",
      "WARNING: Ignoring invalid distribution -illow (c:\\users\\shahram\\anaconda3\\lib\\site-packages)\n",
      "WARNING: Ignoring invalid distribution -illow (c:\\users\\shahram\\anaconda3\\lib\\site-packages)\n"
     ]
    }
   ],
   "source": [
    "!pip install selenium\n"
   ]
  },
  {
   "cell_type": "code",
   "execution_count": 5,
   "id": "2f0bb149",
   "metadata": {
    "scrolled": true
   },
   "outputs": [],
   "source": [
    "import selenium\n",
    "import re\n",
    "import requests\n",
    "from bs4 import BeautifulSoup\n",
    "from selenium import webdriver"
   ]
  },
  {
   "cell_type": "code",
   "execution_count": 6,
   "id": "00ec3150",
   "metadata": {
    "scrolled": true
   },
   "outputs": [
    {
     "name": "stderr",
     "output_type": "stream",
     "text": [
      "C:\\Users\\Shahram\\AppData\\Local\\Temp\\ipykernel_840\\2035685652.py:1: DeprecationWarning: executable_path has been deprecated, please pass in a Service object\n",
      "  driver = webdriver.Chrome('E:\\shahram\\ML\\webscap\\chromedriver')\n"
     ]
    }
   ],
   "source": [
    "driver = webdriver.Chrome('E:\\shahram\\ML\\webscap\\chromedriver')\n",
    "url='https://www.google.com/'\n",
    "driver.get(url) # it is under control Boy\n"
   ]
  },
  {
   "cell_type": "markdown",
   "id": "745c91ae",
   "metadata": {},
   "source": [
    "### میخواهیم میانگین قیمت خودروی  بی ام را با استفاده از دیتای سایت دیوار بدست بیاوریم\n"
   ]
  },
  {
   "cell_type": "code",
   "execution_count": 8,
   "id": "fa653873",
   "metadata": {},
   "outputs": [],
   "source": [
    "getsite_bmw=requests.get('https://divar.ir/s/tehran/car/bmw?q=bmw')\n"
   ]
  },
  {
   "cell_type": "code",
   "execution_count": 16,
   "id": "d1c7b8b8",
   "metadata": {},
   "outputs": [],
   "source": [
    "soup_bmw=BeautifulSoup(getsite_bmw.text,'html.parser')\n",
    "#print(soup_bmw)"
   ]
  },
  {
   "cell_type": "code",
   "execution_count": 9,
   "id": "3215f577",
   "metadata": {},
   "outputs": [],
   "source": [
    "model_bmw=soup_bmw.div.find_all('div' ,class_=\"kt-post-card__body\")\n",
    "KM_price_bmw=soup_bmw.div.find_all('div', class_=\"kt-post-card__description\")"
   ]
  },
  {
   "cell_type": "code",
   "execution_count": 18,
   "id": "e856d385",
   "metadata": {},
   "outputs": [],
   "source": [
    "# for j in range(0,len(KM_price_bmw)):\n",
    "        \n",
    "#     print(KM_price_bmw[j].get_text())    \n",
    "#     print('-------------------')"
   ]
  },
  {
   "cell_type": "code",
   "execution_count": 19,
   "id": "4e08cf18",
   "metadata": {
    "scrolled": true
   },
   "outputs": [
    {
     "name": "stdout",
     "output_type": "stream",
     "text": [
      "بی ام و ۶۳۰۱۲۰,۰۰۰ کیلومتر۵,۸۰۰,۰۰۰,۰۰۰ توماندقایقی پیش در ولنجک\n",
      "-------------------\n",
      "بی ام و 2014 تک ابوظبی۶۶,۰۰۰ کیلومتر۵,۸۵۰,۰۰۰,۰۰۰ توماندقایقی پیش در سعادت‌آباد\n",
      "-------------------\n",
      "بی‌ام‌و سری 5 سدان 530i، مدل ۲۰۰۵۱۵۰,۰۰۰ کیلومتر۱,۸۵۰,۰۰۰,۰۰۰ توماندقایقی پیش در جنت‌آباد مرکزی\n",
      "-------------------\n",
      "X4 مشکی 2017۴۰,۰۰۰ کیلومترغیرقابل نمایشنمایشگاه در فرمانیه\n",
      "-------------------\n",
      "BMW 528i تک‌کیلید ابوظبی۱۰۰,۰۰۰ کیلومتر۶,۵۰۰,۰۰۰,۰۰۰ تومانیک ربع پیش در دزاشیب\n",
      "-------------------\n",
      "بی ام و 520 بیرنگ 2005 ترخیص 2008 ۱۶۰ تاکارکرد۱۶۷,۰۰۰ کیلومتر۱,۹۰۰,۰۰۰,۰۰۰ تومانیک ربع پیش در آجودانیه\n",
      "-------------------\n",
      "بی ام و 320 کروک 2008 (سقف قرمز)۱۶۰,۰۰۰ کیلومتر۲,۲۸۰,۰۰۰,۰۰۰ توماننیم ساعت پیش در شهید بروجردی\n",
      "-------------------\n",
      "بی‌ام‌و، مدل ۲۰۱۴۱۰۰,۰۰۰ کیلومتر۵,۹۰۰,۰۰۰,۰۰۰ تومان۱ ساعت پیش در جنت‌آباد جنوبی\n",
      "-------------------\n",
      "بی‌ام‌و X4 28i، مدل ۲۰۱۶۳۱,۰۰۰ کیلومتر۹,۴۵۰,۰۰۰,۰۰۰ تومان۱ ساعت پیش در سعادت‌آباد\n",
      "-------------------\n",
      "فروش اقساطی2017BMWX4۰ کیلومترغیرقابل نمایشنمایشگاه در سعادت‌آباد\n",
      "-------------------\n",
      "بی ام و X4 مدل 2016۴۵,۰۰۰ کیلومتر۹,۲۵۰,۰۰۰,۰۰۰ توماننمایشگاه در سعادت‌آباد\n",
      "-------------------\n",
      "بی ام و ٣٢٨۷۴,۰۰۰ کیلومتر۴,۹۰۰,۰۰۰,۰۰۰ توماننمایشگاه در عباس‌آباد\n",
      "-------------------\n",
      "بی ام و x3 مدل 2009۲۶۳,۰۰۰ کیلومترغیرقابل نمایشنمایشگاه در نارمک\n",
      "-------------------\n",
      "بی ام دبلیو ۵۲۸i۸۲,۰۰۰ کیلومترغیرقابل نمایش۲ ساعت پیش در چیذر\n",
      "-------------------\n",
      "بی ام و bmw 518۴۰۰,۰۰۰ کیلومتر۲۹۰,۰۰۰,۰۰۰ تومان۲ ساعت پیش در چیتگر\n",
      "-------------------\n",
      "بی‌ام‌و سری ۵، ۲۰۱۴۷۵,۰۰۰ کیلومتر۶,۸۰۰,۰۰۰,۰۰۰ تومانفوری در آبشار تهران\n",
      "-------------------\n",
      "بی ام و ۵۲۸۷۵,۰۰۰ کیلومترتوافقینمایشگاه در سعادت‌آباد\n",
      "-------------------\n",
      "بی ام و X4 مدل ۲۰۱۷۱۸,۰۰۰ کیلومترغیرقابل نمایشنمایشگاه در سعادت‌آباد\n",
      "-------------------\n",
      "خودرو BMW x3  2014۲۴۰,۰۰۰ کیلومتر۵,۵۰۰,۰۰۰,۰۰۰ توماننمایشگاه در آسمان\n",
      "-------------------\n",
      "بی‌ام‌و سری 3 سدان 325i، مدل ۲۰۰۵۱۸۱,۰۰۰ کیلومتر۱,۵۵۰,۰۰۰,۰۰۰ تومان۳ ساعت پیش در شهرک غرب\n",
      "-------------------\n",
      "BMW x3۱۰۰,۰۰۰ کیلومترتوافقینمایشگاه در شهرک غرب\n",
      "-------------------\n",
      "bmw x4 2016۹۰,۰۰۰ کیلومترتوافقینمایشگاه در شهرک غرب\n",
      "-------------------\n",
      "بی‌ام‌و سری 3 سدان 320i، مدل ۲۰۰۹۲۰۰,۰۰۰ کیلومتر۱,۹۵۰,۰۰۰,۰۰۰ تومان۳ ساعت پیش در جردن\n",
      "-------------------\n",
      "بی ام و 520i 2014۱۱۰,۰۰۰ کیلومتر۵,۱۵۰,۰۰۰,۰۰۰ توماننمایشگاه در دریا\n",
      "-------------------\n"
     ]
    }
   ],
   "source": [
    "for j in range(0,len(model_bmw)):\n",
    "        \n",
    "    print(model_bmw[j].get_text())    \n",
    "    print('-------------------')"
   ]
  },
  {
   "cell_type": "code",
   "execution_count": null,
   "id": "10445268",
   "metadata": {},
   "outputs": [],
   "source": []
  },
  {
   "cell_type": "code",
   "execution_count": 11,
   "id": "2185ccb0",
   "metadata": {},
   "outputs": [
    {
     "name": "stdout",
     "output_type": "stream",
     "text": [
      "بی ام و ۶۳۰۱۲۰,۰۰۰ کیلومتر۵,۸۰۰,۰۰۰,۰۰۰ توماندقایقی پیش در ولنجک\n",
      "--\n",
      "۱۲۰,۰۰۰ کیلومتر\n",
      "-------------------\n",
      "بی ام و 2014 تک ابوظبی۶۶,۰۰۰ کیلومتر۵,۸۵۰,۰۰۰,۰۰۰ توماندقایقی پیش در سعادت‌آباد\n",
      "--\n",
      "۵,۸۰۰,۰۰۰,۰۰۰ تومان\n",
      "-------------------\n",
      "بی‌ام‌و سری 5 سدان 530i، مدل ۲۰۰۵۱۵۰,۰۰۰ کیلومتر۱,۸۵۰,۰۰۰,۰۰۰ توماندقایقی پیش در جنت‌آباد مرکزی\n",
      "--\n",
      "۶۶,۰۰۰ کیلومتر\n",
      "-------------------\n",
      "X4 مشکی 2017۴۰,۰۰۰ کیلومترغیرقابل نمایشنمایشگاه در فرمانیه\n",
      "--\n",
      "۵,۸۵۰,۰۰۰,۰۰۰ تومان\n",
      "-------------------\n",
      "BMW 528i تک‌کیلید ابوظبی۱۰۰,۰۰۰ کیلومتر۶,۵۰۰,۰۰۰,۰۰۰ تومانیک ربع پیش در دزاشیب\n",
      "--\n",
      "۱۵۰,۰۰۰ کیلومتر\n",
      "-------------------\n",
      "بی ام و 520 بیرنگ 2005 ترخیص 2008 ۱۶۰ تاکارکرد۱۶۷,۰۰۰ کیلومتر۱,۹۰۰,۰۰۰,۰۰۰ تومانیک ربع پیش در آجودانیه\n",
      "--\n",
      "۱,۸۵۰,۰۰۰,۰۰۰ تومان\n",
      "-------------------\n",
      "بی ام و 320 کروک 2008 (سقف قرمز)۱۶۰,۰۰۰ کیلومتر۲,۲۸۰,۰۰۰,۰۰۰ توماننیم ساعت پیش در شهید بروجردی\n",
      "--\n",
      "۴۰,۰۰۰ کیلومتر\n",
      "-------------------\n",
      "بی‌ام‌و، مدل ۲۰۱۴۱۰۰,۰۰۰ کیلومتر۵,۹۰۰,۰۰۰,۰۰۰ تومان۱ ساعت پیش در جنت‌آباد جنوبی\n",
      "--\n",
      "غیرقابل نمایش\n",
      "-------------------\n",
      "بی‌ام‌و X4 28i، مدل ۲۰۱۶۳۱,۰۰۰ کیلومتر۹,۴۵۰,۰۰۰,۰۰۰ تومان۱ ساعت پیش در سعادت‌آباد\n",
      "--\n",
      "۱۰۰,۰۰۰ کیلومتر\n",
      "-------------------\n",
      "فروش اقساطی2017BMWX4۰ کیلومترغیرقابل نمایشنمایشگاه در سعادت‌آباد\n",
      "--\n",
      "۶,۵۰۰,۰۰۰,۰۰۰ تومان\n",
      "-------------------\n",
      "بی ام و X4 مدل 2016۴۵,۰۰۰ کیلومتر۹,۲۵۰,۰۰۰,۰۰۰ توماننمایشگاه در سعادت‌آباد\n",
      "--\n",
      "۱۶۷,۰۰۰ کیلومتر\n",
      "-------------------\n",
      "بی ام و ٣٢٨۷۴,۰۰۰ کیلومتر۴,۹۰۰,۰۰۰,۰۰۰ توماننمایشگاه در عباس‌آباد\n",
      "--\n",
      "۱,۹۰۰,۰۰۰,۰۰۰ تومان\n",
      "-------------------\n",
      "بی ام و x3 مدل 2009۲۶۳,۰۰۰ کیلومترغیرقابل نمایشنمایشگاه در نارمک\n",
      "--\n",
      "۱۶۰,۰۰۰ کیلومتر\n",
      "-------------------\n",
      "بی ام دبلیو ۵۲۸i۸۲,۰۰۰ کیلومترغیرقابل نمایش۲ ساعت پیش در چیذر\n",
      "--\n",
      "۲,۲۸۰,۰۰۰,۰۰۰ تومان\n",
      "-------------------\n",
      "بی ام و bmw 518۴۰۰,۰۰۰ کیلومتر۲۹۰,۰۰۰,۰۰۰ تومان۲ ساعت پیش در چیتگر\n",
      "--\n",
      "۱۰۰,۰۰۰ کیلومتر\n",
      "-------------------\n",
      "بی‌ام‌و سری ۵، ۲۰۱۴۷۵,۰۰۰ کیلومتر۶,۸۰۰,۰۰۰,۰۰۰ تومانفوری در آبشار تهران\n",
      "--\n",
      "۵,۹۰۰,۰۰۰,۰۰۰ تومان\n",
      "-------------------\n",
      "بی ام و ۵۲۸۷۵,۰۰۰ کیلومترتوافقینمایشگاه در سعادت‌آباد\n",
      "--\n",
      "۳۱,۰۰۰ کیلومتر\n",
      "-------------------\n",
      "بی ام و X4 مدل ۲۰۱۷۱۸,۰۰۰ کیلومترغیرقابل نمایشنمایشگاه در سعادت‌آباد\n",
      "--\n",
      "۹,۴۵۰,۰۰۰,۰۰۰ تومان\n",
      "-------------------\n",
      "خودرو BMW x3  2014۲۴۰,۰۰۰ کیلومتر۵,۵۰۰,۰۰۰,۰۰۰ توماننمایشگاه در آسمان\n",
      "--\n",
      "۰ کیلومتر\n",
      "-------------------\n",
      "بی‌ام‌و سری 3 سدان 325i، مدل ۲۰۰۵۱۸۱,۰۰۰ کیلومتر۱,۵۵۰,۰۰۰,۰۰۰ تومان۳ ساعت پیش در شهرک غرب\n",
      "--\n",
      "غیرقابل نمایش\n",
      "-------------------\n",
      "BMW x3۱۰۰,۰۰۰ کیلومترتوافقینمایشگاه در شهرک غرب\n",
      "--\n",
      "۴۵,۰۰۰ کیلومتر\n",
      "-------------------\n",
      "bmw x4 2016۹۰,۰۰۰ کیلومترتوافقینمایشگاه در شهرک غرب\n",
      "--\n",
      "۹,۲۵۰,۰۰۰,۰۰۰ تومان\n",
      "-------------------\n",
      "بی‌ام‌و سری 3 سدان 320i، مدل ۲۰۰۹۲۰۰,۰۰۰ کیلومتر۱,۹۵۰,۰۰۰,۰۰۰ تومان۳ ساعت پیش در جردن\n",
      "--\n",
      "۷۴,۰۰۰ کیلومتر\n",
      "-------------------\n",
      "بی ام و 520i 2014۱۱۰,۰۰۰ کیلومتر۵,۱۵۰,۰۰۰,۰۰۰ توماننمایشگاه در دریا\n",
      "--\n",
      "۴,۹۰۰,۰۰۰,۰۰۰ تومان\n",
      "-------------------\n"
     ]
    }
   ],
   "source": [
    "model_table_bmw=[]\n",
    "km_price_table_bmw=[]\n",
    "\n",
    "for j in range(0,len(model_bmw)):\n",
    "        \n",
    "    print(model_bmw[j].get_text())\n",
    "    model_table_bmw.append(model_bmw[j].get_text())\n",
    "    print('--')\n",
    "    \n",
    "    print(KM_price_bmw[j].get_text())\n",
    "    km_price_table_bmw.append(KM_price_bmw[j].text)\n",
    "    \n",
    "    print('-------------------')"
   ]
  },
  {
   "cell_type": "code",
   "execution_count": null,
   "id": "b3d6317e",
   "metadata": {},
   "outputs": [],
   "source": []
  },
  {
   "cell_type": "code",
   "execution_count": null,
   "id": "79cfa653",
   "metadata": {},
   "outputs": [],
   "source": []
  }
 ],
 "metadata": {
  "kernelspec": {
   "display_name": "Python 3 (ipykernel)",
   "language": "python",
   "name": "python3"
  },
  "language_info": {
   "codemirror_mode": {
    "name": "ipython",
    "version": 3
   },
   "file_extension": ".py",
   "mimetype": "text/x-python",
   "name": "python",
   "nbconvert_exporter": "python",
   "pygments_lexer": "ipython3",
   "version": "3.9.13"
  }
 },
 "nbformat": 4,
 "nbformat_minor": 5
}
