{
 "cells": [
  {
   "cell_type": "code",
   "execution_count": 10,
   "id": "e708b086",
   "metadata": {},
   "outputs": [],
   "source": [
    "# موارد اولیه\n",
    "import re\n",
    "import requests\n",
    "from bs4 import BeautifulSoup\n",
    "import numpy as np"
   ]
  },
  {
   "cell_type": "code",
   "execution_count": 17,
   "id": "5d85caf6",
   "metadata": {},
   "outputs": [],
   "source": [
    "#----------------------------------------------------------------------------GET DATA-----------\n",
    "# دریافت کل دیتا\n",
    "\n",
    "getsite_132=requests.get('https://divar.ir/s/tehran/car/pride/132')\n",
    "soup_132=BeautifulSoup(getsite_132.text,'html.parser')\n",
    "#soup_132"
   ]
  },
  {
   "cell_type": "code",
   "execution_count": 52,
   "id": "de5493d7",
   "metadata": {},
   "outputs": [],
   "source": [
    "#------------------------------------------------------------------------------CHOOSE TAG-----------------\n",
    "# انتخاب تگ مناسب\n",
    "\n",
    "\n",
    "#KM_price_132=soup_132.div.find_all('div', class_=\"kt-post-card__description\")# این کد دو خط را میگرید، هم قیمت و هم کیلومتر\n",
    "KM_price_132=soup_132.div.find_all('div', class_=\"kt-post-card__body\")# این کد کل بادی را میگیرید\n",
    "\n",
    "#KM_price_132"
   ]
  },
  {
   "cell_type": "code",
   "execution_count": null,
   "id": "f18a9f57",
   "metadata": {},
   "outputs": [],
   "source": [
    "KM_price_132."
   ]
  },
  {
   "cell_type": "code",
   "execution_count": 53,
   "id": "b762f623",
   "metadata": {},
   "outputs": [
    {
     "name": "stdout",
     "output_type": "stream",
     "text": [
      "<class 'bs4.element.ResultSet'>\n"
     ]
    }
   ],
   "source": [
    "# نوع شی انتخاب شده را پرینت میکنیم\n",
    "print(type(KM_price_132))\n"
   ]
  },
  {
   "cell_type": "code",
   "execution_count": 54,
   "id": "54332a1b",
   "metadata": {},
   "outputs": [
    {
     "name": "stdout",
     "output_type": "stream",
     "text": [
      "<class 'list'>\n",
      "24\n"
     ]
    }
   ],
   "source": [
    "#------------------------------------------------------------------------------GET TEXT 132-----------------\n",
    "# برای آنکه بتوان کارهای بهتری در پردازش متن انجام داد آن را در قالب لیست میبریم\n",
    "km_price_table_132=[]\n",
    "\n",
    "for j in range(0,len(KM_price_132)):    \n",
    "    km_price_table_132.append(KM_price_132[j].text)\n",
    "    \n",
    "print(type(km_price_table_132  ))\n",
    "print(len(km_price_table_132  ))"
   ]
  },
  {
   "cell_type": "code",
   "execution_count": 55,
   "id": "b779d349",
   "metadata": {},
   "outputs": [
    {
     "name": "stdout",
     "output_type": "stream",
     "text": [
      "پراید 132 SX، مدل ۱۳۸۹۲۴۰,۰۰۰ کیلومترغیرقابل نمایشدقایقی پیش در جردن\n",
      "-----\n",
      "پراید 132 SL، مدل ۱۳۸۹۳۵۰,۰۰۰ کیلومتر۱۸۷,۰۰۰,۰۰۰ تومانیک ربع پیش در پیروزی\n",
      "-----\n",
      "پراید 132 SX، مدل ۱۳۹۰۴۰۰,۰۰۰ کیلومتر۱۷۵,۰۰۰,۰۰۰ توماننیم ساعت پیش در ازگل\n",
      "-----\n",
      "پراید سفید ۱۳۲ دوگانه سوزCNGمدل1387۲۱۵,۰۰۰ کیلومتر۱۳۷,۵۰۰,۰۰۰ توماننیم ساعت پیش در الهیه\n",
      "-----\n",
      "پراید 132 SE، مدل ۱۳۹۵ بی رنگ درحد۱۸۰,۰۰۰ کیلومتر۲۶۰,۰۰۰,۰۰۰ توماننیم ساعت پیش در تهران‌سر\n",
      "-----\n"
     ]
    }
   ],
   "source": [
    "for j in range(0 , 5):    \n",
    "    print(km_price_table_132[j])\n",
    "    print('-----')"
   ]
  },
  {
   "cell_type": "code",
   "execution_count": 43,
   "id": "d46120d0",
   "metadata": {},
   "outputs": [
    {
     "data": {
      "text/plain": [
       "[['۲۴۰,۰۰۰', 'کیلومتر'],\n",
       " ['غیرقابل', 'نمایش'],\n",
       " ['۳۵۰,۰۰۰', 'کیلومتر'],\n",
       " ['۱۸۷,۰۰۰,۰۰۰', 'تومان'],\n",
       " ['۴۰۰,۰۰۰', 'کیلومتر']]"
      ]
     },
     "execution_count": 43,
     "metadata": {},
     "output_type": "execute_result"
    }
   ],
   "source": [
    " #-----------------------132-----------------------\n",
    "x1_132=''\n",
    "x2_132=[]\n",
    "\n",
    "for j in km_price_table_132:\n",
    "    j_2= j.split()   \n",
    "    x2_132.append(j_2)\n",
    "    \n",
    "# for j in range(0 , 5):    \n",
    "#     print(x2_132[j])\n",
    "#     print('-----')\n",
    "x2_132[0:5]"
   ]
  },
  {
   "cell_type": "code",
   "execution_count": 44,
   "id": "412c2780",
   "metadata": {},
   "outputs": [
    {
     "data": {
      "text/plain": [
       "48"
      ]
     },
     "execution_count": 44,
     "metadata": {},
     "output_type": "execute_result"
    }
   ],
   "source": [
    "len(x2_132)"
   ]
  },
  {
   "cell_type": "code",
   "execution_count": 46,
   "id": "0e3781a3",
   "metadata": {},
   "outputs": [],
   "source": [
    "# for i in range(0, len(x2_132)):\n",
    "#     x2_132[i].append(km_price_table_132[i])\n",
    "    "
   ]
  },
  {
   "cell_type": "code",
   "execution_count": 45,
   "id": "dda173f5",
   "metadata": {},
   "outputs": [],
   "source": [
    "# x2_132[0:5]"
   ]
  },
  {
   "cell_type": "code",
   "execution_count": 47,
   "id": "703a48f7",
   "metadata": {},
   "outputs": [],
   "source": [
    "x3_132=[]\n",
    "x3_132_temp=[]"
   ]
  },
  {
   "cell_type": "code",
   "execution_count": 49,
   "id": "5404c893",
   "metadata": {},
   "outputs": [],
   "source": [
    "for i in range (0, len (x2_132)):\n",
    "    \n",
    "    for j in x2_132[i]:\n",
    "        #print(j)\n",
    "        j=j.replace(',','')\n",
    "        #print(j)\n",
    "        #print(type(j))\n",
    "        j=j.split()\n",
    "        \n",
    "        for k in j:\n",
    "            if k=='توافقی':\n",
    "                #print('توافقی')\n",
    "                x3_132_temp.append(k)\n",
    "            if k.isdigit():\n",
    "                #print('its digit',k)\n",
    "                x3_132_temp.append(k)\n",
    "                \n",
    "    x3_132.append(x3_132_temp)\n",
    "    #x3_132_temp=[]\n",
    "    #print('=========')\n"
   ]
  },
  {
   "cell_type": "code",
   "execution_count": 50,
   "id": "3cfd3462",
   "metadata": {},
   "outputs": [
    {
     "data": {
      "text/plain": [
       "[['۲۴۰۰۰۰'], [], ['۳۵۰۰۰۰'], ['۱۸۷۰۰۰۰۰۰'], ['۴۰۰۰۰۰']]"
      ]
     },
     "execution_count": 50,
     "metadata": {},
     "output_type": "execute_result"
    }
   ],
   "source": [
    "x3_132[0:5]"
   ]
  },
  {
   "cell_type": "code",
   "execution_count": 51,
   "id": "3232eb4f",
   "metadata": {},
   "outputs": [
    {
     "data": {
      "text/plain": [
       "[]"
      ]
     },
     "execution_count": 51,
     "metadata": {},
     "output_type": "execute_result"
    }
   ],
   "source": [
    "x4_all=[]\n",
    "\n",
    "for i in x3_132:\n",
    "    #print(len(i))\n",
    "    if len(i)==4:\n",
    "        x4_all.append(i)\n",
    "x4_all[0:5]"
   ]
  },
  {
   "cell_type": "code",
   "execution_count": 9,
   "id": "532f67f5",
   "metadata": {},
   "outputs": [],
   "source": [
    "x5_input=[]\n",
    "y5_output=[]\n",
    "\n",
    "for i in range(0,len(x4_all)):\n",
    "    x5_input.append(x4_all[i][0:3])\n",
    "    y5_output.append(x4_all[i][-1])\n"
   ]
  },
  {
   "cell_type": "code",
   "execution_count": 13,
   "id": "46071cd3",
   "metadata": {},
   "outputs": [
    {
     "name": "stdout",
     "output_type": "stream",
     "text": [
      "<class 'list'> <class 'list'>\n"
     ]
    }
   ],
   "source": [
    "print(type(x5_input),type(y5_output))"
   ]
  },
  {
   "cell_type": "code",
   "execution_count": 14,
   "id": "3d0e930c",
   "metadata": {},
   "outputs": [
    {
     "data": {
      "text/plain": [
       "[]"
      ]
     },
     "execution_count": 14,
     "metadata": {},
     "output_type": "execute_result"
    }
   ],
   "source": [
    "x5_input"
   ]
  },
  {
   "cell_type": "code",
   "execution_count": 15,
   "id": "3beac393",
   "metadata": {},
   "outputs": [
    {
     "data": {
      "text/plain": [
       "[]"
      ]
     },
     "execution_count": 15,
     "metadata": {},
     "output_type": "execute_result"
    }
   ],
   "source": [
    "y5_output"
   ]
  },
  {
   "cell_type": "code",
   "execution_count": 56,
   "id": "19204454",
   "metadata": {},
   "outputs": [],
   "source": [
    "#print(x5_input.shape,y5_output.shape)"
   ]
  },
  {
   "cell_type": "code",
   "execution_count": null,
   "id": "e3d00a9d",
   "metadata": {},
   "outputs": [],
   "source": []
  },
  {
   "cell_type": "code",
   "execution_count": 57,
   "id": "ae477cb1",
   "metadata": {},
   "outputs": [],
   "source": [
    "#===============================================\n",
    "# from sklearn import tree\n",
    "# clf=tree.DecisionTreeClassifier()\n",
    "# clf=clf.fit(x5_input,y5_output)\n",
    "# #===============================================\n"
   ]
  },
  {
   "cell_type": "code",
   "execution_count": 58,
   "id": "4fc93398",
   "metadata": {},
   "outputs": [],
   "source": [
    "\n",
    "# #===============================================\n",
    "# print('example: 111  1398 29000 ')\n",
    "# new_data=input('please inter model , year and Kilometr seperated by space:  ')\n",
    "# new_data=new_data.split()\n",
    "# print()\n",
    "# #print('new_data=  ',new_data)\n",
    "# #print('type of input=',type(new_data))\n",
    "# #===============================================\n",
    "# clf=clf.fit(x5_input,y5_output)\n",
    "# answer=clf.predict([new_data])\n",
    "# print('the price is about: قیمت تقریبی به ملیون تومان ')\n",
    "# answer\n",
    "\n",
    "\n",
    "\n",
    "\n"
   ]
  },
  {
   "cell_type": "code",
   "execution_count": null,
   "id": "bd6af222",
   "metadata": {},
   "outputs": [],
   "source": []
  }
 ],
 "metadata": {
  "kernelspec": {
   "display_name": "Python 3 (ipykernel)",
   "language": "python",
   "name": "python3"
  },
  "language_info": {
   "codemirror_mode": {
    "name": "ipython",
    "version": 3
   },
   "file_extension": ".py",
   "mimetype": "text/x-python",
   "name": "python",
   "nbconvert_exporter": "python",
   "pygments_lexer": "ipython3",
   "version": "3.9.13"
  }
 },
 "nbformat": 4,
 "nbformat_minor": 5
}
