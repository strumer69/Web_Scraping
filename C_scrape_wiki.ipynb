{
 "cells": [
  {
   "cell_type": "code",
   "execution_count": 59,
   "id": "6f3b77c7",
   "metadata": {},
   "outputs": [
    {
     "name": "stderr",
     "output_type": "stream",
     "text": [
      "[nltk_data] Downloading package punkt to\n",
      "[nltk_data]     C:\\Users\\Shahram\\AppData\\Roaming\\nltk_data...\n",
      "[nltk_data]   Package punkt is already up-to-date!\n"
     ]
    },
    {
     "data": {
      "text/plain": [
       "True"
      ]
     },
     "execution_count": 59,
     "metadata": {},
     "output_type": "execute_result"
    }
   ],
   "source": [
    "import nltk\n",
    "import urllib\n",
    "import bs4 as bs\n",
    "import re # regular expression\n",
    "from nltk.corpus import stopwords\n",
    "nltk.download('punkt')\n"
   ]
  },
  {
   "cell_type": "code",
   "execution_count": 60,
   "id": "cd23291f",
   "metadata": {},
   "outputs": [],
   "source": [
    "#get the data source\n",
    "#use url to read the context\n",
    "source = urllib.request.urlopen('https://simple.wikipedia.org/wiki/Global_warming')"
   ]
  },
  {
   "cell_type": "code",
   "execution_count": 61,
   "id": "515e787f",
   "metadata": {},
   "outputs": [],
   "source": [
    "# we need 2 parameter : 1: source 2: way of parsing\n",
    "# creating beautiful soup object\n",
    "soup=bs.BeautifulSoup(source,'lxml')"
   ]
  },
  {
   "cell_type": "code",
   "execution_count": 62,
   "id": "207e5a7b",
   "metadata": {},
   "outputs": [],
   "source": [
    "# fetching the data\n",
    "# each paragraph exist in a p tag\n",
    "# it will find all of the p tags for us--> soup.find_all('p')\n",
    "# (paragraph.text)--> means the text of each paragraph\n",
    "\n",
    "\n",
    "text=\"\"\n",
    "for paragraph in soup.find_all('p'):\n",
    "    text+=paragraph.text"
   ]
  },
  {
   "cell_type": "code",
   "execution_count": 63,
   "id": "f440447e",
   "metadata": {},
   "outputs": [
    {
     "data": {
      "text/plain": [
       "10392"
      ]
     },
     "execution_count": 63,
     "metadata": {},
     "output_type": "execute_result"
    }
   ],
   "source": [
    "#text\n",
    "len(text)"
   ]
  },
  {
   "cell_type": "code",
   "execution_count": 64,
   "id": "54f9ce67",
   "metadata": {},
   "outputs": [
    {
     "data": {
      "text/plain": [
       "'Global warming is the current rise in temperature of the air and oceans. It is happening mainly because humans burn coal, oil, and natural gas; and cut down forests.[2] Average temperatures today are about 1\\xa0°C (1.8\\xa0°F) higher than before people started burning a lot of coal around 1750.[3] In some parts of the world it is less and some more. Most climate scientists say that by the year 2100 temperatures will be 2\\xa0°C (3.6\\xa0°F) to  4\\xa0°C (7.2\\xa0°F) higher than they were before 1750.[4]\\nGlobal warming is a significant and rapidly accelerating issue caused by human activities, such as greenhouse gas emissions, deforestation, and the burning of fossil fuels. It is having a profound impact on the environment and our planet. The present global warming is mostly because of people burning things, like gasoline for cars and natural gas to keep houses warm. But the heat from the burning itself only makes the world a tiny bit warmer: it is the carbon dioxide from the burning which is the biggest part of the problem. Among greenhouse gases, the increase of carbon dioxide in the atmosphere is the main cause of global warming. Svante Arrhenius predicted this more than a hundred years ago. Arrhenius confirmed the work of Joseph Fourier 200 years ago. \\nWhen people burn fossil fuels like coal, oil and natural gas this adds carbon dioxide into the air.[5] This is because fossil fuels contain lots of carbon and burning means joining most of the atoms in the fuel with oxygen. When people cut down many trees (deforestation), this means less carbon dioxide is taken out of the atmosphere by those plants. Animals which have four places in their stomachs, like cows and sheep, also cause global warming, because their burps contain a greenhouse gas called methane.[6]\\nAs the Earth\\'s surface temperature becomes hotter the sea level rises. This is partly because water over 4\\xa0°C (39\\xa0°F) expands when it gets warmer.[7] It is also partly because warm temperatures make glaciers and ice caps melt. The sea level rise causes coastal areas to flood.[8] Weather patterns, including where and how much rain or snow there is, are changing. Deserts will probably get bigger. Colder areas will warm up faster than warm areas. Strong storms may become more likely and farming may not make as much food. These changes will not be the same everywhere.[9]\\nIn the  Paris Agreement almost all governments agreed to keep temperature rise below 2\\xa0°C (3.6\\xa0°F), but current plans are not enough to limit global warming that much.[10] People in government and the Intergovernmental Panel on Climate Change (IPCC) are talking about global warming. But governments, companies, and other people do not agree on what to do about it. Some things that could reduce warming are to burn less fossil fuels, grow more trees, eat less meat, and put some carbon dioxide back in the ground. People could adapt to some temperature change. A few people think nothing should change.\\nClimate change has happened constantly over the history of the Earth, including the coming and going of ice ages. But modern climate change is different because people are putting carbon dioxide into the atmosphere more quickly than before.[11][12]\\nSince the 1800s, people have recorded the daily temperature. By about 1850, there were enough places measuring temperature so that scientists could know the global average temperature. Compared with before people started burning a lot of coal for industry, the temperature has risen by about 1\\xa0°C (1.8\\xa0°F).[3] In 1979, satellites started measuring the temperature of the Earth.[13]\\nBefore 1850, there were not enough temperature measurements for us to know how warm or cold it was. Climatologists measure other things to try to figure out past temperatures before there were thermometers. This means measuring things that change when it gets colder or warmer. One way is to cut into a tree and measure how far apart the growth rings are. Trees that live a long time can give us an idea of how temperature and rain changed while they were alive.\\nFor most of the past 2000 years the average temperature of the world didn\\'t change much. There were some times where the temperatures were a little warmer or cooler in some places. One of the most famous warm times was the Medieval Warm Period and one of the most famous cool times was the Little Ice Age (not really an ice age). Tree ring dating can only help scientists work out the temperature back to about 10,000 years ago.[14] Ice cores are used to find out all the temperature back to almost a million years ago,[15] and for some times to over 4 million years ago.[16]\\nThere are several  greenhouse gases that cause the Earth to warm. The most important one is carbon dioxide (CO2). CO2 comes from power plants which burn coal and natural gas to make electricity. Cars also emit CO2 when they burn petrol. About 35 billion tons of carbon dioxide are released into the Earth\\'s atmosphere each year.[17] The amount of CO2 in the air is about 50% more than it was around 1750.[18] About three-quarters of the CO2 that people have put in the air during the past 20 years are due to burning fossil fuel like coal or oil. The rest mostly comes from changes in how land is used, like cutting down trees.[19]\\nThe second most important greenhouse gas is methane. A tonne of methane is much more warming than a tonne of CO2 but methane stays in the atmosphere for only about ten years.[20] About 40% comes from nature, like wetlands; and the rest is because of humans, like cows, landfill and leaks when oil and gas are produced.[21][22]\\nDust in the air may come from natural sources such as volcanos,[23][24] erosion and meteoric dust. Some of this dust falls out within a few hours. Some is aerosol, so small that it could stay in the air for years. The aerosol particles in the atmosphere make the earth colder. The effect of dust therefore cancels out some of the effects of greenhouse gases.[25] Even though humans also put aerosols in the air when they burn coal or oil this only cancels out the greenhouse effect of the fuel burning for less than 20 years: however the carbon dioxide stays in the atmosphere much longer and keeps on warming the earth.[26]\\nWhen people burn stuff the aerosols, for example smoke, are bad because when people breath them they make people ill. But some people say that in a climate change emergency the Earth could be kept cool by reflecting some sunlight back into space, for example by putting aerosols very high in the air or making clouds whiter. They say this would give more time to do a proper fix.[27] This is so easy and cheap that even a middle-size country could do it.[28] But there are a lot of problems: for example it might be good for that country but bad for some other countries.[29]\\nGlobal warming can make dangerous heatwaves.[30]\\nSome people burn less fossil fuel. Countries try to emit less greenhouse gases. The Kyoto Protocol was signed in 1997. It was meant to reduce the amount of greenhouse gases in the atmosphere to below their levels in 1990. However, carbon dioxide levels have continued to rise.\\nEnergy conservation is used to burn less fossil fuel. People can also use energy sources that don\\'t burn fossil fuel, like solar panels or electricity from nuclear power or wind power. Or they can prevent the carbon dioxide from getting out into the atmosphere, which is called carbon capture and storage (CCS).\\nPeople can change how they live because of the effect of climate change. For example, they can go to places where the weather is better, or build walls around cities to keep flood water out. This cost money, and rich people and rich countries will be able to change more easily than the poor.\\nAs early as the 1820s some scientists were discussing climate change: sunlight heats the surface of the Earth, and Joseph Fourier suggested that some of the heat radiated from the surface is trapped by the atmosphere before it can escape into space. This is called the greenhouse effect.   \\nIn 1856 Eunice Newton Foote did tests which showed that the warming effect of the sun is greater for air with water vapour than for dry air, and that the effect is even greater with carbon dioxide. So she said that \"An atmosphere of that gas would give to our earth a high temperature...\".[31]\\nStarting in 1859, John Tyndall showed that nitrogen and oxygen—together totaling 99% of dry air—are transparent to radiated heat. However, water vapour and gases such as methane and carbon dioxide absorb radiated heat and re-radiate that heat into the atmosphere. Tyndall suggested that changes in the concentration of these gases may have caused climatic changes in the past, including ice ages. In 1896, Svante Arrhenius tried to prove that it would take thousands of years for the industrial production of CO2 to raise the Earth’s temperature 5-6°C.  \\nIn the mid 20th century, scientists worked out that there was a 10% increase in carbon dioxide in the atmosphere over the 19th century, which made it a bit warmer. It was at this time that people believed the emissions of CO2 would increase exponentially in the future and the oceans would absorb any surplus of greenhouse gases. In 1956, Gilbert N. Plass decided that greenhouse gas emissions would have an effect on the Earth’s temperature. He argued that not thinking about GHG emissions would be a mistake. Soon after, scientists studying all different kinds of science began to work together to figure out the mystery of GHG emissions and their effects. As technology advanced, it was in the 1980s that there was proof of a rise in CO2 levels. An ice core, captured through drilling, provided clear evidence that carbon dioxide levels have risen.[32]\\nSea level is rising because water over 4\\xa0°C (39\\xa0°F) expands when it gets warmer.[7] Probably more important is the melting of ice sheets. The Antarctica and Greenland ice sheets are melting. Sea level will rise between half and one meter by 2100, and between 2 and 7 meter by 2300.[33]\\nLow-lying areas such as Bangladesh, Florida, the Netherlands and other areas face massive flooding.[34][35]\\nMany cities are sea ports and under threat of flooding if the present sea level rises.\\nThese and the other cities have either started trying to deal with rising sea level and related storm surge, or are discussing this, according to reliable sources.\\nAll other coastal cities are in some danger.\\n'"
      ]
     },
     "execution_count": 64,
     "metadata": {},
     "output_type": "execute_result"
    }
   ],
   "source": [
    "text"
   ]
  },
  {
   "cell_type": "code",
   "execution_count": 65,
   "id": "e3df1322",
   "metadata": {},
   "outputs": [
    {
     "data": {
      "text/plain": [
       "10582"
      ]
     },
     "execution_count": 65,
     "metadata": {},
     "output_type": "execute_result"
    }
   ],
   "source": [
    "# preprocessing the data\n",
    "# removing all the numbers and replace by ********\n",
    "text1= re.sub(r'\\[[0-9]*\\]','******** ',text)\n",
    "\n",
    "len(text1) #shorter lenght because numbers have been removed\n",
    "\n"
   ]
  },
  {
   "cell_type": "code",
   "execution_count": 66,
   "id": "e4362313",
   "metadata": {},
   "outputs": [
    {
     "data": {
      "text/plain": [
       "'Global warming is the current rise in temperature of the air and oceans. It is happening mainly because humans burn coal, oil, and natural gas; and cut down forests.********  Average temperatures today are about 1\\xa0°C (1.8\\xa0°F) higher than before people started burning a lot of coal around 1750.********  In some parts of the world it is less and some more. Most climate scientists say that by the year 2100 temperatures will be 2\\xa0°C (3.6\\xa0°F) to  4\\xa0°C (7.2\\xa0°F) higher than they were before 1750.******** \\nGlobal warming is a significant and rapidly accelerating issue caused by human activities, such as greenhouse gas emissions, deforestation, and the burning of fossil fuels. It is having a profound impact on the environment and our planet. The present global warming is mostly because of people burning things, like gasoline for cars and natural gas to keep houses warm. But the heat from the burning itself only makes the world a tiny bit warmer: it is the carbon dioxide from the burning which is the biggest part of the problem. Among greenhouse gases, the increase of carbon dioxide in the atmosphere is the main cause of global warming. Svante Arrhenius predicted this more than a hundred years ago. Arrhenius confirmed the work of Joseph Fourier 200 years ago. \\nWhen people burn fossil fuels like coal, oil and natural gas this adds carbon dioxide into the air.********  This is because fossil fuels contain lots of carbon and burning means joining most of the atoms in the fuel with oxygen. When people cut down many trees (deforestation), this means less carbon dioxide is taken out of the atmosphere by those plants. Animals which have four places in their stomachs, like cows and sheep, also cause global warming, because their burps contain a greenhouse gas called methane.******** \\nAs the Earth\\'s surface temperature becomes hotter the sea level rises. This is partly because water over 4\\xa0°C (39\\xa0°F) expands when it gets warmer.********  It is also partly because warm temperatures make glaciers and ice caps melt. The sea level rise causes coastal areas to flood.********  Weather patterns, including where and how much rain or snow there is, are changing. Deserts will probably get bigger. Colder areas will warm up faster than warm areas. Strong storms may become more likely and farming may not make as much food. These changes will not be the same everywhere.******** \\nIn the  Paris Agreement almost all governments agreed to keep temperature rise below 2\\xa0°C (3.6\\xa0°F), but current plans are not enough to limit global warming that much.********  People in government and the Intergovernmental Panel on Climate Change (IPCC) are talking about global warming. But governments, companies, and other people do not agree on what to do about it. Some things that could reduce warming are to burn less fossil fuels, grow more trees, eat less meat, and put some carbon dioxide back in the ground. People could adapt to some temperature change. A few people think nothing should change.\\nClimate change has happened constantly over the history of the Earth, including the coming and going of ice ages. But modern climate change is different because people are putting carbon dioxide into the atmosphere more quickly than before.******** ******** \\nSince the 1800s, people have recorded the daily temperature. By about 1850, there were enough places measuring temperature so that scientists could know the global average temperature. Compared with before people started burning a lot of coal for industry, the temperature has risen by about 1\\xa0°C (1.8\\xa0°F).********  In 1979, satellites started measuring the temperature of the Earth.******** \\nBefore 1850, there were not enough temperature measurements for us to know how warm or cold it was. Climatologists measure other things to try to figure out past temperatures before there were thermometers. This means measuring things that change when it gets colder or warmer. One way is to cut into a tree and measure how far apart the growth rings are. Trees that live a long time can give us an idea of how temperature and rain changed while they were alive.\\nFor most of the past 2000 years the average temperature of the world didn\\'t change much. There were some times where the temperatures were a little warmer or cooler in some places. One of the most famous warm times was the Medieval Warm Period and one of the most famous cool times was the Little Ice Age (not really an ice age). Tree ring dating can only help scientists work out the temperature back to about 10,000 years ago.********  Ice cores are used to find out all the temperature back to almost a million years ago,********  and for some times to over 4 million years ago.******** \\nThere are several  greenhouse gases that cause the Earth to warm. The most important one is carbon dioxide (CO2). CO2 comes from power plants which burn coal and natural gas to make electricity. Cars also emit CO2 when they burn petrol. About 35 billion tons of carbon dioxide are released into the Earth\\'s atmosphere each year.********  The amount of CO2 in the air is about 50% more than it was around 1750.********  About three-quarters of the CO2 that people have put in the air during the past 20 years are due to burning fossil fuel like coal or oil. The rest mostly comes from changes in how land is used, like cutting down trees.******** \\nThe second most important greenhouse gas is methane. A tonne of methane is much more warming than a tonne of CO2 but methane stays in the atmosphere for only about ten years.********  About 40% comes from nature, like wetlands; and the rest is because of humans, like cows, landfill and leaks when oil and gas are produced.******** ******** \\nDust in the air may come from natural sources such as volcanos,******** ********  erosion and meteoric dust. Some of this dust falls out within a few hours. Some is aerosol, so small that it could stay in the air for years. The aerosol particles in the atmosphere make the earth colder. The effect of dust therefore cancels out some of the effects of greenhouse gases.********  Even though humans also put aerosols in the air when they burn coal or oil this only cancels out the greenhouse effect of the fuel burning for less than 20 years: however the carbon dioxide stays in the atmosphere much longer and keeps on warming the earth.******** \\nWhen people burn stuff the aerosols, for example smoke, are bad because when people breath them they make people ill. But some people say that in a climate change emergency the Earth could be kept cool by reflecting some sunlight back into space, for example by putting aerosols very high in the air or making clouds whiter. They say this would give more time to do a proper fix.********  This is so easy and cheap that even a middle-size country could do it.********  But there are a lot of problems: for example it might be good for that country but bad for some other countries.******** \\nGlobal warming can make dangerous heatwaves.******** \\nSome people burn less fossil fuel. Countries try to emit less greenhouse gases. The Kyoto Protocol was signed in 1997. It was meant to reduce the amount of greenhouse gases in the atmosphere to below their levels in 1990. However, carbon dioxide levels have continued to rise.\\nEnergy conservation is used to burn less fossil fuel. People can also use energy sources that don\\'t burn fossil fuel, like solar panels or electricity from nuclear power or wind power. Or they can prevent the carbon dioxide from getting out into the atmosphere, which is called carbon capture and storage (CCS).\\nPeople can change how they live because of the effect of climate change. For example, they can go to places where the weather is better, or build walls around cities to keep flood water out. This cost money, and rich people and rich countries will be able to change more easily than the poor.\\nAs early as the 1820s some scientists were discussing climate change: sunlight heats the surface of the Earth, and Joseph Fourier suggested that some of the heat radiated from the surface is trapped by the atmosphere before it can escape into space. This is called the greenhouse effect.   \\nIn 1856 Eunice Newton Foote did tests which showed that the warming effect of the sun is greater for air with water vapour than for dry air, and that the effect is even greater with carbon dioxide. So she said that \"An atmosphere of that gas would give to our earth a high temperature...\".******** \\nStarting in 1859, John Tyndall showed that nitrogen and oxygen—together totaling 99% of dry air—are transparent to radiated heat. However, water vapour and gases such as methane and carbon dioxide absorb radiated heat and re-radiate that heat into the atmosphere. Tyndall suggested that changes in the concentration of these gases may have caused climatic changes in the past, including ice ages. In 1896, Svante Arrhenius tried to prove that it would take thousands of years for the industrial production of CO2 to raise the Earth’s temperature 5-6°C.  \\nIn the mid 20th century, scientists worked out that there was a 10% increase in carbon dioxide in the atmosphere over the 19th century, which made it a bit warmer. It was at this time that people believed the emissions of CO2 would increase exponentially in the future and the oceans would absorb any surplus of greenhouse gases. In 1956, Gilbert N. Plass decided that greenhouse gas emissions would have an effect on the Earth’s temperature. He argued that not thinking about GHG emissions would be a mistake. Soon after, scientists studying all different kinds of science began to work together to figure out the mystery of GHG emissions and their effects. As technology advanced, it was in the 1980s that there was proof of a rise in CO2 levels. An ice core, captured through drilling, provided clear evidence that carbon dioxide levels have risen.******** \\nSea level is rising because water over 4\\xa0°C (39\\xa0°F) expands when it gets warmer.********  Probably more important is the melting of ice sheets. The Antarctica and Greenland ice sheets are melting. Sea level will rise between half and one meter by 2100, and between 2 and 7 meter by 2300.******** \\nLow-lying areas such as Bangladesh, Florida, the Netherlands and other areas face massive flooding.******** ******** \\nMany cities are sea ports and under threat of flooding if the present sea level rises.\\nThese and the other cities have either started trying to deal with rising sea level and related storm surge, or are discussing this, according to reliable sources.\\nAll other coastal cities are in some danger.\\n'"
      ]
     },
     "execution_count": 66,
     "metadata": {},
     "output_type": "execute_result"
    }
   ],
   "source": [
    "text1"
   ]
  },
  {
   "cell_type": "code",
   "execution_count": 67,
   "id": "75d682e4",
   "metadata": {},
   "outputs": [
    {
     "data": {
      "text/plain": [
       "10541"
      ]
     },
     "execution_count": 67,
     "metadata": {},
     "output_type": "execute_result"
    }
   ],
   "source": [
    "#remove additional spaces\n",
    "text2=re.sub(r'\\s+',' ',text1)\n",
    "len(text2)"
   ]
  },
  {
   "cell_type": "code",
   "execution_count": 68,
   "id": "8e679bfa",
   "metadata": {},
   "outputs": [],
   "source": [
    "text3_lower=text2.lower()\n"
   ]
  },
  {
   "cell_type": "code",
   "execution_count": null,
   "id": "29998b00",
   "metadata": {},
   "outputs": [],
   "source": []
  },
  {
   "cell_type": "code",
   "execution_count": 69,
   "id": "aed88740",
   "metadata": {},
   "outputs": [
    {
     "data": {
      "text/plain": [
       "101"
      ]
     },
     "execution_count": 69,
     "metadata": {},
     "output_type": "execute_result"
    }
   ],
   "source": [
    "#converting to sentences\n",
    "sentences=nltk.sent_tokenize(text3_lower)\n",
    "len(sentences)"
   ]
  },
  {
   "cell_type": "code",
   "execution_count": 70,
   "id": "36c240b4",
   "metadata": {},
   "outputs": [
    {
     "data": {
      "text/plain": [
       "list"
      ]
     },
     "execution_count": 70,
     "metadata": {},
     "output_type": "execute_result"
    }
   ],
   "source": [
    "type(sentences)"
   ]
  },
  {
   "cell_type": "code",
   "execution_count": 71,
   "id": "ddf80218",
   "metadata": {},
   "outputs": [
    {
     "name": "stdout",
     "output_type": "stream",
     "text": [
      "global warming is the current rise in temperature of the air and oceans.\n",
      "----------------\n",
      "it is happening mainly because humans burn coal, oil, and natural gas; and cut down forests.\n",
      "----------------\n",
      "******** average temperatures today are about 1 °c (1.8 °f) higher than before people started burning a lot of coal around 1750.\n",
      "----------------\n",
      "******** in some parts of the world it is less and some more.\n",
      "----------------\n",
      "most climate scientists say that by the year 2100 temperatures will be 2 °c (3.6 °f) to 4 °c (7.2 °f) higher than they were before 1750.\n",
      "----------------\n",
      "******** global warming is a significant and rapidly accelerating issue caused by human activities, such as greenhouse gas emissions, deforestation, and the burning of fossil fuels.\n",
      "----------------\n",
      "it is having a profound impact on the environment and our planet.\n",
      "----------------\n",
      "the present global warming is mostly because of people burning things, like gasoline for cars and natural gas to keep houses warm.\n",
      "----------------\n",
      "but the heat from the burning itself only makes the world a tiny bit warmer: it is the carbon dioxide from the burning which is the biggest part of the problem.\n",
      "----------------\n",
      "among greenhouse gases, the increase of carbon dioxide in the atmosphere is the main cause of global warming.\n",
      "----------------\n",
      "svante arrhenius predicted this more than a hundred years ago.\n",
      "----------------\n",
      "arrhenius confirmed the work of joseph fourier 200 years ago.\n",
      "----------------\n",
      "when people burn fossil fuels like coal, oil and natural gas this adds carbon dioxide into the air.\n",
      "----------------\n",
      "******** this is because fossil fuels contain lots of carbon and burning means joining most of the atoms in the fuel with oxygen.\n",
      "----------------\n",
      "when people cut down many trees (deforestation), this means less carbon dioxide is taken out of the atmosphere by those plants.\n",
      "----------------\n",
      "animals which have four places in their stomachs, like cows and sheep, also cause global warming, because their burps contain a greenhouse gas called methane.\n",
      "----------------\n",
      "******** as the earth's surface temperature becomes hotter the sea level rises.\n",
      "----------------\n",
      "this is partly because water over 4 °c (39 °f) expands when it gets warmer.\n",
      "----------------\n",
      "******** it is also partly because warm temperatures make glaciers and ice caps melt.\n",
      "----------------\n",
      "the sea level rise causes coastal areas to flood.\n",
      "----------------\n",
      "******** weather patterns, including where and how much rain or snow there is, are changing.\n",
      "----------------\n",
      "deserts will probably get bigger.\n",
      "----------------\n",
      "colder areas will warm up faster than warm areas.\n",
      "----------------\n",
      "strong storms may become more likely and farming may not make as much food.\n",
      "----------------\n",
      "these changes will not be the same everywhere.\n",
      "----------------\n",
      "******** in the paris agreement almost all governments agreed to keep temperature rise below 2 °c (3.6 °f), but current plans are not enough to limit global warming that much.\n",
      "----------------\n",
      "******** people in government and the intergovernmental panel on climate change (ipcc) are talking about global warming.\n",
      "----------------\n",
      "but governments, companies, and other people do not agree on what to do about it.\n",
      "----------------\n",
      "some things that could reduce warming are to burn less fossil fuels, grow more trees, eat less meat, and put some carbon dioxide back in the ground.\n",
      "----------------\n",
      "people could adapt to some temperature change.\n",
      "----------------\n",
      "a few people think nothing should change.\n",
      "----------------\n",
      "climate change has happened constantly over the history of the earth, including the coming and going of ice ages.\n",
      "----------------\n",
      "but modern climate change is different because people are putting carbon dioxide into the atmosphere more quickly than before.\n",
      "----------------\n",
      "******** ******** since the 1800s, people have recorded the daily temperature.\n",
      "----------------\n",
      "by about 1850, there were enough places measuring temperature so that scientists could know the global average temperature.\n",
      "----------------\n",
      "compared with before people started burning a lot of coal for industry, the temperature has risen by about 1 °c (1.8 °f).\n",
      "----------------\n",
      "******** in 1979, satellites started measuring the temperature of the earth.\n",
      "----------------\n",
      "******** before 1850, there were not enough temperature measurements for us to know how warm or cold it was.\n",
      "----------------\n",
      "climatologists measure other things to try to figure out past temperatures before there were thermometers.\n",
      "----------------\n",
      "this means measuring things that change when it gets colder or warmer.\n",
      "----------------\n",
      "one way is to cut into a tree and measure how far apart the growth rings are.\n",
      "----------------\n",
      "trees that live a long time can give us an idea of how temperature and rain changed while they were alive.\n",
      "----------------\n",
      "for most of the past 2000 years the average temperature of the world didn't change much.\n",
      "----------------\n",
      "there were some times where the temperatures were a little warmer or cooler in some places.\n",
      "----------------\n",
      "one of the most famous warm times was the medieval warm period and one of the most famous cool times was the little ice age (not really an ice age).\n",
      "----------------\n",
      "tree ring dating can only help scientists work out the temperature back to about 10,000 years ago.\n",
      "----------------\n",
      "******** ice cores are used to find out all the temperature back to almost a million years ago,******** and for some times to over 4 million years ago.\n",
      "----------------\n",
      "******** there are several greenhouse gases that cause the earth to warm.\n",
      "----------------\n",
      "the most important one is carbon dioxide (co2).\n",
      "----------------\n",
      "co2 comes from power plants which burn coal and natural gas to make electricity.\n",
      "----------------\n",
      "cars also emit co2 when they burn petrol.\n",
      "----------------\n",
      "about 35 billion tons of carbon dioxide are released into the earth's atmosphere each year.\n",
      "----------------\n",
      "******** the amount of co2 in the air is about 50% more than it was around 1750.\n",
      "----------------\n",
      "******** about three-quarters of the co2 that people have put in the air during the past 20 years are due to burning fossil fuel like coal or oil.\n",
      "----------------\n",
      "the rest mostly comes from changes in how land is used, like cutting down trees.\n",
      "----------------\n",
      "******** the second most important greenhouse gas is methane.\n",
      "----------------\n",
      "a tonne of methane is much more warming than a tonne of co2 but methane stays in the atmosphere for only about ten years.\n",
      "----------------\n",
      "******** about 40% comes from nature, like wetlands; and the rest is because of humans, like cows, landfill and leaks when oil and gas are produced.\n",
      "----------------\n",
      "******** ******** dust in the air may come from natural sources such as volcanos,******** ******** erosion and meteoric dust.\n",
      "----------------\n",
      "some of this dust falls out within a few hours.\n",
      "----------------\n",
      "some is aerosol, so small that it could stay in the air for years.\n",
      "----------------\n",
      "the aerosol particles in the atmosphere make the earth colder.\n",
      "----------------\n",
      "the effect of dust therefore cancels out some of the effects of greenhouse gases.\n",
      "----------------\n",
      "******** even though humans also put aerosols in the air when they burn coal or oil this only cancels out the greenhouse effect of the fuel burning for less than 20 years: however the carbon dioxide stays in the atmosphere much longer and keeps on warming the earth.\n",
      "----------------\n",
      "******** when people burn stuff the aerosols, for example smoke, are bad because when people breath them they make people ill. but some people say that in a climate change emergency the earth could be kept cool by reflecting some sunlight back into space, for example by putting aerosols very high in the air or making clouds whiter.\n",
      "----------------\n",
      "they say this would give more time to do a proper fix.\n",
      "----------------\n",
      "******** this is so easy and cheap that even a middle-size country could do it.\n",
      "----------------\n",
      "******** but there are a lot of problems: for example it might be good for that country but bad for some other countries.\n",
      "----------------\n",
      "******** global warming can make dangerous heatwaves.\n",
      "----------------\n",
      "******** some people burn less fossil fuel.\n",
      "----------------\n",
      "countries try to emit less greenhouse gases.\n",
      "----------------\n",
      "the kyoto protocol was signed in 1997. it was meant to reduce the amount of greenhouse gases in the atmosphere to below their levels in 1990. however, carbon dioxide levels have continued to rise.\n",
      "----------------\n",
      "energy conservation is used to burn less fossil fuel.\n",
      "----------------\n",
      "people can also use energy sources that don't burn fossil fuel, like solar panels or electricity from nuclear power or wind power.\n",
      "----------------\n",
      "or they can prevent the carbon dioxide from getting out into the atmosphere, which is called carbon capture and storage (ccs).\n",
      "----------------\n",
      "people can change how they live because of the effect of climate change.\n",
      "----------------\n",
      "for example, they can go to places where the weather is better, or build walls around cities to keep flood water out.\n",
      "----------------\n",
      "this cost money, and rich people and rich countries will be able to change more easily than the poor.\n",
      "----------------\n",
      "as early as the 1820s some scientists were discussing climate change: sunlight heats the surface of the earth, and joseph fourier suggested that some of the heat radiated from the surface is trapped by the atmosphere before it can escape into space.\n",
      "----------------\n",
      "this is called the greenhouse effect.\n",
      "----------------\n",
      "in 1856 eunice newton foote did tests which showed that the warming effect of the sun is greater for air with water vapour than for dry air, and that the effect is even greater with carbon dioxide.\n",
      "----------------\n",
      "so she said that \"an atmosphere of that gas would give to our earth a high temperature...\".\n",
      "----------------\n",
      "******** starting in 1859, john tyndall showed that nitrogen and oxygen—together totaling 99% of dry air—are transparent to radiated heat.\n",
      "----------------\n",
      "however, water vapour and gases such as methane and carbon dioxide absorb radiated heat and re-radiate that heat into the atmosphere.\n",
      "----------------\n",
      "tyndall suggested that changes in the concentration of these gases may have caused climatic changes in the past, including ice ages.\n",
      "----------------\n",
      "in 1896, svante arrhenius tried to prove that it would take thousands of years for the industrial production of co2 to raise the earth’s temperature 5-6°c.\n",
      "----------------\n",
      "in the mid 20th century, scientists worked out that there was a 10% increase in carbon dioxide in the atmosphere over the 19th century, which made it a bit warmer.\n",
      "----------------\n",
      "it was at this time that people believed the emissions of co2 would increase exponentially in the future and the oceans would absorb any surplus of greenhouse gases.\n",
      "----------------\n",
      "in 1956, gilbert n. plass decided that greenhouse gas emissions would have an effect on the earth’s temperature.\n",
      "----------------\n",
      "he argued that not thinking about ghg emissions would be a mistake.\n",
      "----------------\n",
      "soon after, scientists studying all different kinds of science began to work together to figure out the mystery of ghg emissions and their effects.\n",
      "----------------\n",
      "as technology advanced, it was in the 1980s that there was proof of a rise in co2 levels.\n",
      "----------------\n",
      "an ice core, captured through drilling, provided clear evidence that carbon dioxide levels have risen.\n",
      "----------------\n",
      "******** sea level is rising because water over 4 °c (39 °f) expands when it gets warmer.\n",
      "----------------\n",
      "******** probably more important is the melting of ice sheets.\n",
      "----------------\n",
      "the antarctica and greenland ice sheets are melting.\n",
      "----------------\n",
      "sea level will rise between half and one meter by 2100, and between 2 and 7 meter by 2300.\n",
      "----------------\n",
      "******** low-lying areas such as bangladesh, florida, the netherlands and other areas face massive flooding.\n",
      "----------------\n",
      "******** ******** many cities are sea ports and under threat of flooding if the present sea level rises.\n",
      "----------------\n",
      "these and the other cities have either started trying to deal with rising sea level and related storm surge, or are discussing this, according to reliable sources.\n",
      "----------------\n",
      "all other coastal cities are in some danger.\n",
      "----------------\n"
     ]
    }
   ],
   "source": [
    "for i in sentences:\n",
    "    print(i)\n",
    "    print('----------------')"
   ]
  },
  {
   "cell_type": "code",
   "execution_count": null,
   "id": "8ffbe550",
   "metadata": {},
   "outputs": [],
   "source": []
  },
  {
   "cell_type": "code",
   "execution_count": null,
   "id": "c2c6e2bb",
   "metadata": {},
   "outputs": [],
   "source": []
  }
 ],
 "metadata": {
  "kernelspec": {
   "display_name": "Python 3 (ipykernel)",
   "language": "python",
   "name": "python3"
  },
  "language_info": {
   "codemirror_mode": {
    "name": "ipython",
    "version": 3
   },
   "file_extension": ".py",
   "mimetype": "text/x-python",
   "name": "python",
   "nbconvert_exporter": "python",
   "pygments_lexer": "ipython3",
   "version": "3.9.13"
  }
 },
 "nbformat": 4,
 "nbformat_minor": 5
}
