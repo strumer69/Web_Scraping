{
 "cells": [
  {
   "cell_type": "markdown",
   "id": "1e151f89",
   "metadata": {},
   "source": [
    "# for explanation visit the following blog post:\n",
    "https://shmoradpour.ir/2023/03/06/%d8%a7%d8%b3%da%a9%d8%b1%d9%be-%d8%a7%d8%aa%d9%88%d9%85%d8%a7%d8%aa%db%8c%da%a9/\n",
    "    "
   ]
  },
  {
   "cell_type": "code",
   "execution_count": 1,
   "id": "3bcfee9b",
   "metadata": {},
   "outputs": [
    {
     "name": "stdout",
     "output_type": "stream",
     "text": [
      "Collecting autoscraper\n",
      "  Downloading autoscraper-1.1.14-py3-none-any.whl (10 kB)\n",
      "Requirement already satisfied: requests in c:\\users\\shahram\\anaconda3\\lib\\site-packages (from autoscraper) (2.28.1)\n",
      "Collecting bs4\n",
      "  Downloading bs4-0.0.1.tar.gz (1.1 kB)\n",
      "  Preparing metadata (setup.py): started\n",
      "  Preparing metadata (setup.py): finished with status 'done'\n",
      "Requirement already satisfied: lxml in c:\\users\\shahram\\anaconda3\\lib\\site-packages (from autoscraper) (4.9.1)\n",
      "Requirement already satisfied: beautifulsoup4 in c:\\users\\shahram\\anaconda3\\lib\\site-packages (from bs4->autoscraper) (4.11.1)\n",
      "Requirement already satisfied: charset-normalizer<3,>=2 in c:\\users\\shahram\\anaconda3\\lib\\site-packages (from requests->autoscraper) (2.0.4)\n",
      "Requirement already satisfied: idna<4,>=2.5 in c:\\users\\shahram\\anaconda3\\lib\\site-packages (from requests->autoscraper) (3.3)\n",
      "Requirement already satisfied: urllib3<1.27,>=1.21.1 in c:\\users\\shahram\\anaconda3\\lib\\site-packages (from requests->autoscraper) (1.26.11)\n",
      "Requirement already satisfied: certifi>=2017.4.17 in c:\\users\\shahram\\anaconda3\\lib\\site-packages (from requests->autoscraper) (2022.9.14)\n",
      "Requirement already satisfied: soupsieve>1.2 in c:\\users\\shahram\\anaconda3\\lib\\site-packages (from beautifulsoup4->bs4->autoscraper) (2.3.1)\n",
      "Building wheels for collected packages: bs4\n",
      "  Building wheel for bs4 (setup.py): started\n",
      "  Building wheel for bs4 (setup.py): finished with status 'done'\n",
      "  Created wheel for bs4: filename=bs4-0.0.1-py3-none-any.whl size=1257 sha256=d93f838490943cddcde46bda701d87ff24c3f3313b311a9cb329c4a5bc433b9c\n",
      "  Stored in directory: c:\\users\\shahram\\appdata\\local\\pip\\cache\\wheels\\73\\2b\\cb\\099980278a0c9a3e57ff1a89875ec07bfa0b6fcbebb9a8cad3\n",
      "Successfully built bs4\n",
      "Installing collected packages: bs4, autoscraper\n",
      "Successfully installed autoscraper-1.1.14 bs4-0.0.1\n"
     ]
    },
    {
     "name": "stderr",
     "output_type": "stream",
     "text": [
      "WARNING: Ignoring invalid distribution -illow (c:\\users\\shahram\\anaconda3\\lib\\site-packages)\n",
      "WARNING: Ignoring invalid distribution -illow (c:\\users\\shahram\\anaconda3\\lib\\site-packages)\n",
      "WARNING: Ignoring invalid distribution -illow (c:\\users\\shahram\\anaconda3\\lib\\site-packages)\n",
      "WARNING: Ignoring invalid distribution -illow (c:\\users\\shahram\\anaconda3\\lib\\site-packages)\n",
      "WARNING: Ignoring invalid distribution -illow (c:\\users\\shahram\\anaconda3\\lib\\site-packages)\n",
      "WARNING: Ignoring invalid distribution -illow (c:\\users\\shahram\\anaconda3\\lib\\site-packages)\n",
      "WARNING: Ignoring invalid distribution -illow (c:\\users\\shahram\\anaconda3\\lib\\site-packages)\n",
      "WARNING: Ignoring invalid distribution -illow (c:\\users\\shahram\\anaconda3\\lib\\site-packages)\n"
     ]
    }
   ],
   "source": [
    "!pip install autoscraper\n"
   ]
  },
  {
   "cell_type": "code",
   "execution_count": 2,
   "id": "106d3bb6",
   "metadata": {},
   "outputs": [],
   "source": [
    "from autoscraper import AutoScraper\n"
   ]
  },
  {
   "cell_type": "code",
   "execution_count": 16,
   "id": "d3b53036",
   "metadata": {},
   "outputs": [],
   "source": [
    "url_stack='https://stackoverflow.com/questions/2081586/web-scraping-with-python'\n",
    "wanted_list=[\"What are metaclasses in Python?\"]\n"
   ]
  },
  {
   "cell_type": "code",
   "execution_count": 17,
   "id": "7e6be1ba",
   "metadata": {},
   "outputs": [
    {
     "name": "stdout",
     "output_type": "stream",
     "text": [
      "['What are metaclasses in Python?', 'Does Python have a ternary conditional operator?', \"What does the 'b' character do in front of a string literal?\", 'Relative imports for the billionth time', 'How does the @property decorator work in Python?', 'How do I check the versions of Python modules?']\n"
     ]
    }
   ],
   "source": [
    "scraper=AutoScraper()\n",
    "result=scraper.build(url_stack,wanted_list)\n",
    "print(result)"
   ]
  },
  {
   "cell_type": "code",
   "execution_count": 18,
   "id": "4767e2a6",
   "metadata": {},
   "outputs": [
    {
     "data": {
      "text/plain": [
       "['What is the difference between String and string in C#?',\n",
       " 'How do I read / convert an InputStream into a String in Java?',\n",
       " \"Case insensitive 'Contains(string)'\",\n",
       " 'Convert string \"Jun 1 2005 1:33PM\" into datetime',\n",
       " 'How do I make the first letter of a string uppercase in JavaScript?',\n",
       " 'How do I replace all occurrences of a string in JavaScript?',\n",
       " 'How to check whether a string contains a substring in JavaScript?',\n",
       " \"Does Python have a string 'contains' substring method?\",\n",
       " 'How do I convert a String to an int in Java?',\n",
       " 'Best way to convert string to bytes in Python 3?']"
      ]
     },
     "execution_count": 18,
     "metadata": {},
     "output_type": "execute_result"
    }
   ],
   "source": [
    "scraper.get_result_similar('https://stackoverflow.com/questions/606191/convert-bytes-to-a-string')\n"
   ]
  },
  {
   "cell_type": "code",
   "execution_count": 20,
   "id": "091a805e",
   "metadata": {},
   "outputs": [
    {
     "name": "stdout",
     "output_type": "stream",
     "text": [
      "[]\n"
     ]
    }
   ],
   "source": [
    "from autoscraper import AutoScraper\n",
    "\n",
    "url = 'https://finance.yahoo.com/'\n",
    "\n",
    "wanted_list = [\"BTC-USD\"]\n",
    "\n",
    "scraper = AutoScraper()\n",
    "\n",
    "# Here we can also pass html content via the html parameter instead of the url (html=html_content)\n",
    "result = scraper.build(url, wanted_list)\n",
    "print(result)"
   ]
  },
  {
   "cell_type": "code",
   "execution_count": 21,
   "id": "dac4077a",
   "metadata": {},
   "outputs": [
    {
     "data": {
      "text/plain": [
       "[]"
      ]
     },
     "execution_count": 21,
     "metadata": {},
     "output_type": "execute_result"
    }
   ],
   "source": [
    "scraper.get_result_exact('https://finance.yahoo.com/quote/MSFT/')\n"
   ]
  },
  {
   "cell_type": "code",
   "execution_count": 22,
   "id": "89002d49",
   "metadata": {},
   "outputs": [
    {
     "name": "stdout",
     "output_type": "stream",
     "text": [
      "['A Smart, Automatic, Fast and Lightweight Web Scraper for Python', 'https://github.com/alirezamika/autoscraper', 'https://github.com/alirezamika/autoscraper/issues', 'https://github.com/alirezamika/autoscraper/pulls', 'https://github.com/alirezamika/autoscraper/discussions', 'https://github.com/alirezamika/autoscraper/actions', 'https://github.com/alirezamika/autoscraper/projects', 'https://github.com/alirezamika/autoscraper/wiki', 'https://github.com/alirezamika/autoscraper/security', 'https://github.com/alirezamika/autoscraper/pulse']\n"
     ]
    }
   ],
   "source": [
    "from autoscraper import AutoScraper\n",
    "\n",
    "url = 'https://github.com/alirezamika/autoscraper'\n",
    "\n",
    "wanted_list = ['A Smart, Automatic, Fast and Lightweight Web Scraper for Python', '2.5k', 'https://github.com/alirezamika/autoscraper/issues']\n",
    "\n",
    "scraper = AutoScraper()\n",
    "result = scraper.build(url, wanted_list)\n",
    "print(result)"
   ]
  },
  {
   "cell_type": "code",
   "execution_count": 42,
   "id": "e79ac13a",
   "metadata": {},
   "outputs": [
    {
     "data": {
      "text/plain": [
       "['A Smart, Automatic, Fast and Lightweight Web Scraper for Python',\n",
       " '5k',\n",
       " '125',\n",
       " '525',\n",
       " 'https://github.com/alirezamika/autoscraper',\n",
       " 'https://github.com/alirezamika/autoscraper/issues',\n",
       " 'https://github.com/alirezamika/autoscraper/pulls',\n",
       " 'https://github.com/alirezamika/autoscraper/discussions',\n",
       " 'https://github.com/alirezamika/autoscraper/actions',\n",
       " 'https://github.com/alirezamika/autoscraper/projects',\n",
       " 'https://github.com/alirezamika/autoscraper/wiki',\n",
       " 'https://github.com/alirezamika/autoscraper/security',\n",
       " 'https://github.com/alirezamika/autoscraper/pulse']"
      ]
     },
     "execution_count": 42,
     "metadata": {},
     "output_type": "execute_result"
    }
   ],
   "source": [
    "from autoscraper import AutoScraper\n",
    "\n",
    "url = 'https://github.com/alirezamika/autoscraper'\n",
    "\n",
    "wanted_list = ['A Smart, Automatic, Fast and Lightweight Web Scraper for Python', '5k', 'https://github.com/alirezamika/autoscraper/issues']\n",
    "\n",
    "scraper = AutoScraper()\n",
    "links=scraper.build(url, wanted_list)\n",
    "links"
   ]
  },
  {
   "cell_type": "code",
   "execution_count": 43,
   "id": "d7bce84b",
   "metadata": {},
   "outputs": [
    {
     "data": {
      "text/plain": [
       "'https://github.com/alirezamika/autoscraper'"
      ]
     },
     "execution_count": 43,
     "metadata": {},
     "output_type": "execute_result"
    }
   ],
   "source": [
    "url"
   ]
  },
  {
   "cell_type": "code",
   "execution_count": 40,
   "id": "66186c9a",
   "metadata": {},
   "outputs": [
    {
     "data": {
      "text/plain": [
       "['A Smart, Automatic, Fast and Lightweight Web Scraper for Python',\n",
       " '5k',\n",
       " 'https://github.com/alirezamika/autoscraper/issues']"
      ]
     },
     "execution_count": 40,
     "metadata": {},
     "output_type": "execute_result"
    }
   ],
   "source": [
    "scraper.get_result_exact(url) \n"
   ]
  },
  {
   "cell_type": "code",
   "execution_count": 53,
   "id": "31037f4e",
   "metadata": {},
   "outputs": [
    {
     "name": "stdout",
     "output_type": "stream",
     "text": [
      "['کارگر حمل و نقل انبار', 'کارگر ساده ام دی اف', 'منشی مطب', 'خدماتی خانم برای شرکت بازرگانی', 'نیروی جوان برای کار نظافت با جای خواب', 'هولدینگ سرمایه گذاری مهرایرانیان', 'کارگر سوپرمارکت', 'تکمیل هسته آموزشی زبان انگلیسی', 'استخدام پزشک عمومی', 'کار با دستگاه چاپ', 'پرداخت سرمایه با چک', 'پیک موتوری نیمه وقت', 'استخدام کاراموز در اژانس هواپیمایی', 'مراقب سالمند پوشکی شبانه روز', 'نیازمند دستیار مسلط به بند و اصلاح', 'طراح ناخن و پدیکوریست و ناخنکار', 'استخدام راننده لیفتراک در شرکت خوشگوار تهران', 'استخدام\\u200cنظافتچی اقا وخانم از کل مناطق  تهران', 'بازاریاب ویزیتور معرفی سایت فرصت', 'استخدام شرکت معتبر ( خانم / آقا /امور دفتری)', 'استخدام پرستار و مراقب سالمند و کودک', 'استخدام حسابدار اقامتگاه دانشجویی کارمندی', 'استخدام مشاوراملاک حرفه ای ومبتدی', 'استخدام جوشکار پله پیچ ماهر در شمال']\n",
      "----\n",
      "['کارگر ساده ام دی اف']\n"
     ]
    }
   ],
   "source": [
    "url='https://divar.ir/s/tehran/jobs'\n",
    "\n",
    "wanted_list=['کارگر ساده ام دی اف']\n",
    "\n",
    "similar=scraper.build(url, wanted_list)\n",
    "exact= scraper.get_result_exact(url) \n",
    "\n",
    "print(similar)\n",
    "print('----')\n",
    "print(exact)\n"
   ]
  },
  {
   "cell_type": "code",
   "execution_count": 54,
   "id": "878b74df",
   "metadata": {},
   "outputs": [
    {
     "data": {
      "text/plain": [
       "['کارگر حمل و نقل انبار',\n",
       " 'کارگر ساده ام دی اف',\n",
       " 'منشی مطب',\n",
       " 'خدماتی خانم برای شرکت بازرگانی',\n",
       " 'نیروی جوان برای کار نظافت با جای خواب',\n",
       " 'هولدینگ سرمایه گذاری مهرایرانیان',\n",
       " 'کارگر سوپرمارکت',\n",
       " 'تکمیل هسته آموزشی زبان انگلیسی',\n",
       " 'استخدام پزشک عمومی',\n",
       " 'کار با دستگاه چاپ',\n",
       " 'پرداخت سرمایه با چک',\n",
       " 'پیک موتوری نیمه وقت',\n",
       " 'استخدام کاراموز در اژانس هواپیمایی',\n",
       " 'مراقب سالمند پوشکی شبانه روز',\n",
       " 'نیازمند دستیار مسلط به بند و اصلاح',\n",
       " 'طراح ناخن و پدیکوریست و ناخنکار',\n",
       " 'استخدام راننده لیفتراک در شرکت خوشگوار تهران',\n",
       " 'استخدام\\u200cنظافتچی اقا وخانم از کل مناطق  تهران',\n",
       " 'بازاریاب ویزیتور معرفی سایت فرصت',\n",
       " 'استخدام شرکت معتبر ( خانم / آقا /امور دفتری)',\n",
       " 'استخدام پرستار و مراقب سالمند و کودک',\n",
       " 'استخدام حسابدار اقامتگاه دانشجویی کارمندی',\n",
       " 'استخدام مشاوراملاک حرفه ای ومبتدی',\n",
       " 'استخدام جوشکار پله پیچ ماهر در شمال']"
      ]
     },
     "execution_count": 54,
     "metadata": {},
     "output_type": "execute_result"
    }
   ],
   "source": [
    "similar"
   ]
  },
  {
   "cell_type": "code",
   "execution_count": 62,
   "id": "08050c45",
   "metadata": {},
   "outputs": [
    {
     "data": {
      "text/plain": [
       "{'rule_onrs': ['به یک پیک موتوری جهت تهیه غذا نیازمندیم',\n",
       "  'کمک حسابدار',\n",
       "  'نگهداری و مراقبت از کودک ۲ساله',\n",
       "  'منشی مدیر عامل',\n",
       "  'پرداخت سرمایه در زمان ممکن',\n",
       "  'ظرفشور و پیک موتوری',\n",
       "  'چند کارگر ساده در لبنیاتی',\n",
       "  '2نفرسالن کار،کارگر ساده برای کافه رستوران وتالار',\n",
       "  'نیروی مونتاژ',\n",
       "  'کار منشی گری',\n",
       "  'پرستار سالمند شبانه روزی'],\n",
       " 'rule_slr3': ['کارگر ساده،ظرفشور برای فست فود',\n",
       "  'به یک پیک موتوری جهت تهیه غذا نیازمندیم',\n",
       "  'کمک حسابدار',\n",
       "  'نگهداری و مراقبت از کودک ۲ساله',\n",
       "  'مراقب سالمند بیمار کودک امور منزل و اشپزی',\n",
       "  'نیروی خدماتی جهت نظافت منزل',\n",
       "  'منشی مدیر عامل',\n",
       "  'پرداخت سرمایه در زمان ممکن',\n",
       "  'ظرفشور و پیک موتوری',\n",
       "  'مشاور املاک',\n",
       "  'استخدام حسابدار بعد از آموزش',\n",
       "  'استخدام حسابدار بعد از آموزش',\n",
       "  'تولید انواع لباس مردانه و زنانه و بچه گانه شراکت',\n",
       "  'استخدام نیروی کار و نصاب در چاپخانه بنر',\n",
       "  'چند کارگر ساده در لبنیاتی',\n",
       "  'آموزش آنلاین حسابداری',\n",
       "  '2نفرسالن کار،کارگر ساده برای کافه رستوران وتالار',\n",
       "  'همکار آبمیوه فروشی',\n",
       "  'نیروی مونتاژ',\n",
       "  'کار منشی گری',\n",
       "  'کمک آشپز آقا،کانتر کار خانم، کارگر ساده',\n",
       "  'فروشندهجهت کار در قنادی',\n",
       "  'فروشنده با سابقه کار جهت کار در شیرینی فروشی',\n",
       "  'پرستار سالمند شبانه روزی'],\n",
       " 'rule_96vn': ['کارگر ساده،ظرفشور برای فست فود',\n",
       "  'به یک پیک موتوری جهت تهیه غذا نیازمندیم',\n",
       "  'کمک حسابدار',\n",
       "  'نگهداری و مراقبت از کودک ۲ساله',\n",
       "  'مراقب سالمند بیمار کودک امور منزل و اشپزی',\n",
       "  'نیروی خدماتی جهت نظافت منزل',\n",
       "  'منشی مدیر عامل',\n",
       "  'پرداخت سرمایه در زمان ممکن',\n",
       "  'ظرفشور و پیک موتوری',\n",
       "  'مشاور املاک',\n",
       "  'استخدام حسابدار بعد از آموزش',\n",
       "  'استخدام حسابدار بعد از آموزش',\n",
       "  'تولید انواع لباس مردانه و زنانه و بچه گانه شراکت',\n",
       "  'استخدام نیروی کار و نصاب در چاپخانه بنر',\n",
       "  'چند کارگر ساده در لبنیاتی',\n",
       "  'آموزش آنلاین حسابداری',\n",
       "  '2نفرسالن کار،کارگر ساده برای کافه رستوران وتالار',\n",
       "  'همکار آبمیوه فروشی',\n",
       "  'نیروی مونتاژ',\n",
       "  'کار منشی گری',\n",
       "  'کمک آشپز آقا،کانتر کار خانم، کارگر ساده',\n",
       "  'فروشندهجهت کار در قنادی',\n",
       "  'فروشنده با سابقه کار جهت کار در شیرینی فروشی',\n",
       "  'پرستار سالمند شبانه روزی']}"
      ]
     },
     "execution_count": 62,
     "metadata": {},
     "output_type": "execute_result"
    }
   ],
   "source": [
    "url='https://divar.ir/s/tehran/jobs'\n",
    "\n",
    "wanted_list=['مشاور املاک']\n",
    "\n",
    "scraper.get_result_similar(url,grouped=True) \n",
    "\n",
    "\n"
   ]
  },
  {
   "cell_type": "code",
   "execution_count": null,
   "id": "f1149f00",
   "metadata": {},
   "outputs": [],
   "source": []
  },
  {
   "cell_type": "code",
   "execution_count": null,
   "id": "e747385f",
   "metadata": {},
   "outputs": [],
   "source": []
  },
  {
   "cell_type": "code",
   "execution_count": null,
   "id": "fb9541ad",
   "metadata": {},
   "outputs": [],
   "source": []
  },
  {
   "cell_type": "code",
   "execution_count": null,
   "id": "9e244440",
   "metadata": {},
   "outputs": [],
   "source": []
  },
  {
   "cell_type": "code",
   "execution_count": null,
   "id": "4b789850",
   "metadata": {},
   "outputs": [],
   "source": []
  }
 ],
 "metadata": {
  "kernelspec": {
   "display_name": "Python 3 (ipykernel)",
   "language": "python",
   "name": "python3"
  },
  "language_info": {
   "codemirror_mode": {
    "name": "ipython",
    "version": 3
   },
   "file_extension": ".py",
   "mimetype": "text/x-python",
   "name": "python",
   "nbconvert_exporter": "python",
   "pygments_lexer": "ipython3",
   "version": "3.9.13"
  }
 },
 "nbformat": 4,
 "nbformat_minor": 5
}
